{
 "cells": [
  {
   "cell_type": "code",
   "execution_count": null,
   "id": "f7946b43",
   "metadata": {},
   "outputs": [],
   "source": [
    "#ITZIS ALTAMIRANDA\n",
    "#CEDULA: 8-954-2117\n",
    "#GRUPO:3"
   ]
  },
  {
   "cell_type": "code",
   "execution_count": 16,
   "id": "1473df87",
   "metadata": {},
   "outputs": [
    {
     "name": "stdout",
     "output_type": "stream",
     "text": [
      "La suma de 1 2 3 4 y 5 is 15\n"
     ]
    }
   ],
   "source": [
    "#Q. 01-01. \n",
    "#Diseñe un código que imprima la suma de los valores de 1 a 5 \n",
    "def printSum(a,b,c,d,e):\n",
    "    result=a+b+c+d+e\n",
    "    print('La suma de',a, b, c, d,'y',e,'is',result)\n",
    "    \n",
    "printSum(1, 2, 3, 4, 5)"
   ]
  },
  {
   "cell_type": "code",
   "execution_count": 23,
   "id": "a1b172b6",
   "metadata": {},
   "outputs": [
    {
     "name": "stdout",
     "output_type": "stream",
     "text": [
      "ingrese un numeros : \n",
      "5\n",
      "El número 5 es impar\n"
     ]
    }
   ],
   "source": [
    "#Q. 02-02.  \n",
    "#Diseñe un programa que reciba un número entero positivo del usuario y diga si es un número par o impar. \n",
    "dato=int(input(\"ingrese un numeros : \\n\"))\n",
    "if dato % 2 == 0: \n",
    "    print('El número', dato, 'es par')\n",
    "else:\n",
    "    print('El número', dato, 'es impar')"
   ]
  },
  {
   "cell_type": "code",
   "execution_count": 45,
   "id": "8a591221",
   "metadata": {},
   "outputs": [
    {
     "name": "stdout",
     "output_type": "stream",
     "text": [
      "*****************************\n",
      "# # # # # # # # # # # # # # # \n"
     ]
    }
   ],
   "source": [
    "#Q. 03-01.  Diseñe un código que imprima la siguiente salida decorativa:\n",
    "#*****************************\n",
    "# # # # # # # # # # # # # # # # # # # #\n",
    "def print_asterisco(n):\n",
    "    print('*' *n)\n",
    "          \n",
    "print_asterisco(29)\n",
    "\n",
    "def print_numeral(n):\n",
    "    print('# ' *n)\n",
    "          \n",
    "print_numeral(15)"
   ]
  },
  {
   "cell_type": "code",
   "execution_count": 36,
   "id": "94b2b7fd",
   "metadata": {},
   "outputs": [
    {
     "name": "stdout",
     "output_type": "stream",
     "text": [
      "nombre: ['Itzis Altamiranda']\n",
      "Direccion: ['Panama Oeste, Nvo.Arrajan, barriada 7 de Junio, casa#36']\n"
     ]
    }
   ],
   "source": [
    "#Q. 04-01. \n",
    "#Escribe y guarda tu nombre y dirección en las variables nombre y dirección, respectivamente. Escribe un código que lo imprima en la pantalla \n",
    "Nombre=[\"Itzis Altamiranda\"]\n",
    "Direccion=[\"Panama Oeste, Nvo.Arrajan, barriada 7 de Junio, casa#36\"]\n",
    "\n",
    "print('nombre:',Nombre)\n",
    "print('Direccion:',Direccion)"
   ]
  },
  {
   "cell_type": "code",
   "execution_count": 42,
   "id": "cf397e06",
   "metadata": {},
   "outputs": [
    {
     "name": "stdout",
     "output_type": "stream",
     "text": [
      "x\ty\tx or y\n",
      "----------------------\n",
      "False\tFalse\tFalse\n",
      "False\tTrue\tTrue\n",
      "True\tFalse\tTrue\n",
      "True\tTrue\tTrue\n",
      "\n",
      "x\ty\tx and y\n",
      "----------------------\n",
      "False\tFalse\tFalse\n",
      "False\tTrue\tFalse\n",
      "True\tFalse\tFalse\n",
      "True\tTrue\tTrue\n",
      "\n"
     ]
    }
   ],
   "source": [
    "#Q. 05-01.\n",
    "#Diseñe un código que imprima la tabla de verdad de la función and y de la función or teniendo como entradas X y Y\n",
    "\n",
    "booleanos = [False, True]\n",
    "\n",
    "# Tabla de verdad de or\n",
    "\n",
    "print('x\\ty\\tx or y')\n",
    "def print_guion(n):\n",
    "    print('-' *n)          \n",
    "print_guion(22)\n",
    "\n",
    "for x in booleanos:\n",
    "    for y in booleanos:\n",
    "        print(x, y, x or y, sep = '\\t')\n",
    "\n",
    "print()\n",
    "\n",
    "\n",
    "# Tabla de verdad de and\n",
    "\n",
    "print('x\\ty\\tx and y')\n",
    "def print_guion(n):\n",
    "    print('-' *n)          \n",
    "print_guion(22)\n",
    "          \n",
    "for x in booleanos:\n",
    "    for y in booleanos:\n",
    "        print(x, y, x and y, sep = '\\t')\n",
    "        \n",
    "print()"
   ]
  },
  {
   "cell_type": "code",
   "execution_count": 97,
   "id": "4d70e1f0",
   "metadata": {},
   "outputs": [
    {
     "name": "stdout",
     "output_type": "stream",
     "text": [
      "Ingrese el número 1: 8\n",
      "Ingrese el número 2: 1\n",
      "8\n",
      "1\n"
     ]
    }
   ],
   "source": [
    "#Q. 06-01. \n",
    "#Escriba un programa que tome dos enteros al azar como entrada y los enumere de menor a mayor. (Restricción: dos enteros que no sean el mismo número). \n",
    "\n",
    "numeros = []\n",
    "contador = 1\n",
    "\n",
    "while len(numeros) < 2:\n",
    "    numero_como_cadena = input(\"Ingrese el número \" + str(contador) + \": \")\n",
    "    try:\n",
    "        numero = int(float(numero_como_cadena))\n",
    "        if numero in numeros:\n",
    "            print(\"El número ya existe\")\n",
    "        else:\n",
    "            numeros.append(numero)\n",
    "            contador = contador + 1\n",
    "    except:\n",
    "        print(\"Número no válido\")\n",
    "\n",
    "for i in numeros:\n",
    "    for j in range(len(numeros) - 1):\n",
    "        if numeros[j] > numeros[j+1]:\n",
    "            numeros[j], numeros[j+1]\n",
    "\n",
    "for numero in numeros:\n",
    "    print(numero)"
   ]
  },
  {
   "cell_type": "code",
   "execution_count": 53,
   "id": "8ba1b96f",
   "metadata": {},
   "outputs": [
    {
     "name": "stdout",
     "output_type": "stream",
     "text": [
      "Selecciona si es usted adulto o nino.\n",
      "\t1.- nino\n",
      "\t2.- adulto\n",
      "\t: 1\n",
      "Si es adulto, Seleccione su estado civil.\n",
      "\t1.- Soltero\n",
      "\t2.- Casado\n",
      "\t3.- ninguno\n",
      "\t: 3\n"
     ]
    }
   ],
   "source": [
    "#Q. 07-01. \n",
    "#Escriba un programa que realice las siguientes funciones utilizando una expresión condicional compuesta de una sentencia if (bucle anidado).\n",
    "import sys\n",
    "\n",
    "for i in range (1, 2):\n",
    "    print ('Selecciona si es usted adulto o nino.')\n",
    "    print ('\\t1.- nino')\n",
    "    print ('\\t2.- adulto')\n",
    "    sys.stdout.write ('\\t')\n",
    "    estado_civil = int (input (': '))\n",
    "\n",
    "for i in range (1, 2):\n",
    "    print ('Si es adulto, Seleccione su estado civil.')\n",
    "    print ('\\t1.- Soltero')\n",
    "    print ('\\t2.- Casado')\n",
    "    print ('\\t3.- ninguno')\n",
    "    sys.stdout.write ('\\t')\n",
    "    estado_civil = int (input (': '))\n",
    "    "
   ]
  },
  {
   "cell_type": "code",
   "execution_count": 88,
   "id": "c746de9a",
   "metadata": {},
   "outputs": [
    {
     "name": "stdout",
     "output_type": "stream",
     "text": [
      "numero maximo: 12\n",
      "2\n",
      "3\n",
      "5\n",
      "7\n",
      "11\n",
      "Cantidad de primos:  5\n"
     ]
    }
   ],
   "source": [
    "#Q. 08-01. \n",
    "#Diseñe un código que imprima los números primos y compuestos del 2 al \n",
    "numero=int(input(\"numero maximo: \"))\n",
    "n=0\n",
    "for i in range(2,numero+1):\n",
    "    for x in range (1,i+1):\n",
    "        primo=True\n",
    "        res=i%x\n",
    "        if res==0 and x!=1 and x!=i:\n",
    "            primo=False\n",
    "            break\n",
    "    if primo==True:\n",
    "        print(i)\n",
    "        n+=1\n",
    "print(\"Cantidad de primos: \",n)\n",
    "\n"
   ]
  },
  {
   "cell_type": "code",
   "execution_count": 97,
   "id": "de7c2522",
   "metadata": {},
   "outputs": [
    {
     "name": "stdout",
     "output_type": "stream",
     "text": [
      "Ingrese el numero minimo : 100\n",
      "Ingrese el numero maximo : 999\n",
      "153\n",
      "370\n",
      "371\n",
      "407\n"
     ]
    }
   ],
   "source": [
    "#Q. 09-01. \n",
    "#Encuentra todos los números de Armstrong entre los enteros de tres dígitos \n",
    "Minimo = int(input(\"Ingrese el numero minimo : \"))\n",
    "Maximo = int(input(\"Ingrese el numero maximo : \"))\n",
    "\n",
    "for n in range(Minimo, Maximo + 1):\n",
    "    tot = 0\n",
    "    Times = 0\n",
    "           \n",
    "    tp = n\n",
    "    while tp > 0:\n",
    "        Times = Times + 1\n",
    "        tp = tp // 10\n",
    "\n",
    "    tp = n\n",
    "    while tp > 0:\n",
    "        Rem = tp % 10\n",
    "        tot = tot + (Rem ** Times)\n",
    "        tp //= 10\n",
    "    if n == tot:\n",
    "        print(n)"
   ]
  },
  {
   "cell_type": "code",
   "execution_count": null,
   "id": "f3912858",
   "metadata": {},
   "outputs": [],
   "source": []
  }
 ],
 "metadata": {
  "kernelspec": {
   "display_name": "Python 3 (ipykernel)",
   "language": "python",
   "name": "python3"
  },
  "language_info": {
   "codemirror_mode": {
    "name": "ipython",
    "version": 3
   },
   "file_extension": ".py",
   "mimetype": "text/x-python",
   "name": "python",
   "nbconvert_exporter": "python",
   "pygments_lexer": "ipython3",
   "version": "3.9.12"
  }
 },
 "nbformat": 4,
 "nbformat_minor": 5
}
