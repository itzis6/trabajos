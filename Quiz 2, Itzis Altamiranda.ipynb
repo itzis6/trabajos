{
 "cells": [
  {
   "cell_type": "code",
   "execution_count": null,
   "id": "3322e030",
   "metadata": {},
   "outputs": [],
   "source": [
    "#QUIZ 2\n",
    "#ITIS ALTAMIRANDA\n",
    "#CEDULA:8-954-2117"
   ]
  },
  {
   "cell_type": "code",
   "execution_count": 29,
   "id": "d51a1653",
   "metadata": {},
   "outputs": [
    {
     "name": "stdout",
     "output_type": "stream",
     "text": [
      "I like pancake.\n",
      "I like kiwi juice.\n",
      "I like espresso.\n",
      "I love pancake.\n",
      "I love kiwi juice.\n",
      "I love espresso.\n"
     ]
    }
   ],
   "source": [
    "#Q.2-01. \n",
    "l1 = ['I like','I love']\n",
    "l2 = ['pancake.','kiwi juice.','espresso.']\n",
    "\n",
    "for x in l1:\n",
    "  for y in l2:\n",
    "    print(x, y)\n"
   ]
  },
  {
   "cell_type": "code",
   "execution_count": 43,
   "id": "42c84bef",
   "metadata": {},
   "outputs": [
    {
     "name": "stdout",
     "output_type": "stream",
     "text": [
      "{'name': 'David Doe', 'age': 26, 'Weight': 82, 'Job': 'Data scientist', 'Padre': 'John Doe'}\n"
     ]
    }
   ],
   "source": [
    "#Q.2-02. \n",
    "person = {'name': 'David Doe', 'age': 26, 'Weight': 82, 'Job': 'Data scientist'}\n",
    "person['Padre'] = 'John Doe' \n",
    "print(person)"
   ]
  },
  {
   "cell_type": "code",
   "execution_count": 82,
   "id": "432cd15c",
   "metadata": {},
   "outputs": [
    {
     "name": "stdout",
     "output_type": "stream",
     "text": [
      "[5, 6, 3, 9, 2, 3, 8, 7, 12]\n"
     ]
    }
   ],
   "source": [
    "#Q.2-03. \n",
    "list = [5,6,3,9,2,12,3,8,7]\n",
    "list.pop(5)\n",
    "\n",
    "list.insert(8, 12)\n",
    "print(list)"
   ]
  },
  {
   "cell_type": "code",
   "execution_count": 125,
   "id": "a394d3b2",
   "metadata": {},
   "outputs": [
    {
     "name": "stdout",
     "output_type": "stream",
     "text": [
      "[[1, 2], [3, 4], [5, 6]]\n"
     ]
    },
    {
     "data": {
      "text/plain": [
       "array([1, 2, 3, 4, 5, 6])"
      ]
     },
     "execution_count": 125,
     "metadata": {},
     "output_type": "execute_result"
    }
   ],
   "source": [
    "#Q.2-04.\n",
    "import numpy as np\n",
    "my_list=[[1, 2], [3, 4], [5, 6]]\n",
    "print(my_list)\n",
    "np.concatenate(my_list)"
   ]
  },
  {
   "cell_type": "code",
   "execution_count": 137,
   "id": "dbf6cf85",
   "metadata": {},
   "outputs": [
    {
     "name": "stdout",
     "output_type": "stream",
     "text": [
      "promedio 89.25\n"
     ]
    }
   ],
   "source": [
    "#Q.2-05. \n",
    "Maria = {'korean': 94, 'english': 91, 'mathematics': 89, 'science': 83}\n",
    "\n",
    "a=tuple(Maria.values())\n",
    "b=len(a)\n",
    "suma=0\n",
    "for val in a:\n",
    "    suma+=val\n",
    "print(\"promedio\",suma/b)"
   ]
  },
  {
   "cell_type": "code",
   "execution_count": 152,
   "id": "ef8286d6",
   "metadata": {},
   "outputs": [
    {
     "name": "stdout",
     "output_type": "stream",
     "text": [
      "False\n"
     ]
    }
   ],
   "source": [
    "#Q.2-06\n",
    "import copy \n",
    "School = {'kim': {'age':16, 'hel':170, 'grade':3}, 'lee': {'age':15, 'hel':168, 'grade':2}, \n",
    "          'choi': {'age':14, 'hel':173, 'grade':1}}\n",
    "School2 = copy.deepcopy(School)\n",
    "\n",
    "if (School == School2 ):\n",
    "    print(False)\n",
    "\n",
    "if (School != School2):\n",
    "    print(True)\n"
   ]
  },
  {
   "cell_type": "code",
   "execution_count": 22,
   "id": "97da8132",
   "metadata": {},
   "outputs": [
    {
     "name": "stdout",
     "output_type": "stream",
     "text": [
      "China 1391\n",
      "India 1364\n",
      "Estados Unidos 327\n",
      "Indonesia 264\n"
     ]
    }
   ],
   "source": [
    "#Q.2-07\n",
    "paises =(\"China\", \"India\", \"Estados Unidos\", \"Indonesia\")\n",
    "poblaciones =(1391,1364,327,264)\n",
    "\n",
    "for p, po in zip(paises, poblaciones):\n",
    "    print(p, po)"
   ]
  }
 ],
 "metadata": {
  "kernelspec": {
   "display_name": "Python 3 (ipykernel)",
   "language": "python",
   "name": "python3"
  },
  "language_info": {
   "codemirror_mode": {
    "name": "ipython",
    "version": 3
   },
   "file_extension": ".py",
   "mimetype": "text/x-python",
   "name": "python",
   "nbconvert_exporter": "python",
   "pygments_lexer": "ipython3",
   "version": "3.9.12"
  }
 },
 "nbformat": 4,
 "nbformat_minor": 5
}
