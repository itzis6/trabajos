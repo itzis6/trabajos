{
 "cells": [
  {
   "cell_type": "code",
   "execution_count": 8,
   "id": "5965f035",
   "metadata": {},
   "outputs": [
    {
     "name": "stdout",
     "output_type": "stream",
     "text": [
      "ingrese los valores para la coordenada 1\n",
      "ingrese el valor de x1:1\n",
      "ingrese el valor de y1:3\n",
      "ingrese los valores para la coordenada 2\n",
      "ingrese el valor de x2:4\n",
      "ingrese el valor de y2:6\n",
      "______________________________\n",
      "la distancia entre la coordenada 1 y la coordenada 2 es = 4.242640687119285\n"
     ]
    }
   ],
   "source": [
    "#Q. 03-01. \n",
    "import math\n",
    "print(\"ingrese los valores para la coordenada 1\")\n",
    "x1 = int(input(\"ingrese el valor de x1:\"))\n",
    "y1 = int(input(\"ingrese el valor de y1:\"))\n",
    "print(\"ingrese los valores para la coordenada 2\")\n",
    "x2 = int(input(\"ingrese el valor de x2:\"))\n",
    "y2 = int(input(\"ingrese el valor de y2:\"))\n",
    "print(\"______________________________\")\n",
    "\n",
    "distancia = math.sqrt((x2-x1)**2+(y2-y1)**2)\n",
    "print(\"la distancia entre la coordenada 1 y la coordenada 2 es =\", distancia)\n",
    "\n"
   ]
  },
  {
   "cell_type": "code",
   "execution_count": 80,
   "id": "ef034fd7",
   "metadata": {},
   "outputs": [
    {
     "name": "stdout",
     "output_type": "stream",
     "text": [
      "Ingrese cadena de palabras:radar\n",
      "La cadena de palabras es un palindromo ♡\n"
     ]
    }
   ],
   "source": [
    "#Q. 03-02.  \n",
    "def is_palindrome(s):\n",
    "    if len(s) < 1:\n",
    "        return True\n",
    "    else:\n",
    "        if s[0] == s[-1]:\n",
    "            return is_palindrome(s[1:-1])\n",
    "        else:\n",
    "            return False\n",
    "a=str(input(\"Ingrese cadena de palabras:\"))\n",
    "if(is_palindrome(a)==True):\n",
    "    print(\"La cadena de palabras es un palindromo ♡\")\n",
    "else:\n",
    "    print(\"La cadena de palabras no es un palindromo\")"
   ]
  },
  {
   "cell_type": "code",
   "execution_count": 92,
   "id": "a4f84932",
   "metadata": {},
   "outputs": [
    {
     "data": {
      "text/plain": [
       "[90, 180, 270]"
      ]
     },
     "execution_count": 92,
     "metadata": {},
     "output_type": "execute_result"
    }
   ],
   "source": [
    "#Q. 03-03.\n",
    "n_list=[10, 20, 30]\n",
    "list(map(lambda n: n * 2 + n *3 + n * 4, n_list))"
   ]
  },
  {
   "cell_type": "code",
   "execution_count": 93,
   "id": "74c7eee4",
   "metadata": {},
   "outputs": [
    {
     "name": "stdout",
     "output_type": "stream",
     "text": [
      "1\n",
      "4\n",
      "27\n",
      "256\n",
      "3125\n"
     ]
    }
   ],
   "source": [
    "#Q. 03-04. \n",
    "#Prueba de escritorio\n",
    "\n",
    "def calc_digit(n):      \n",
    "    def final(digit):\n",
    "        return digit**n \n",
    "    return final\n",
    "\n",
    "num_list=[]          \n",
    "for num in range(1,6): \n",
    "    num_list.append(calc_digit(num))  \n",
    "    print(num_list[num - 1](num))     \n",
    "    \n",
    "    \n",
    "    #se define la función calc_digit que calcula el valor de N^n y lo retorna \n",
    "    #se define la lista \n",
    "    #se inicia un ciclo for para indicar que el rango de valores con los que se trabajara van de 1 a 6\n",
    "    #mediante append se agregan los items al final de la lista\n",
    "    #se imprime el resultado de elevar los numeros del 1 al 5 por N^n. El 6 no se imprime.\n",
    "    \n",
    "   \n",
    "    "
   ]
  },
  {
   "cell_type": "code",
   "execution_count": 19,
   "id": "818d3dd7",
   "metadata": {},
   "outputs": [
    {
     "name": "stdout",
     "output_type": "stream",
     "text": [
      "v1*v2 =  300,800\n",
      "v1/v2 =  3.0,2.0\n"
     ]
    }
   ],
   "source": [
    "#Q. 03-05. \n",
    "class vector2D:\n",
    "    def __init__(self,x,y):\n",
    "        self.x=x\n",
    "        self.y=y\n",
    "    def __str__(self):\n",
    "        return \"{},{}\".format(self.x,self.y)\n",
    "    def __mul__(self,other):\n",
    "        return vector2D(self.x*other.x,self.y*other.y)\n",
    "    def __truediv__(self,other):\n",
    "        return vector2D(self.x/other.x,self.y/other.y)\n",
    "v1=vector2D(30,40)\n",
    "v2=vector2D(10,20)\n",
    "v3=v1*v2\n",
    "v4=v1/v2\n",
    "print(\"v1*v2 = \",v3)\n",
    "print(\"v1/v2 = \",v4)\n"
   ]
  },
  {
   "cell_type": "code",
   "execution_count": null,
   "id": "9458274f",
   "metadata": {},
   "outputs": [],
   "source": [
    "#Q. 04-01. \n",
    "#Prueba de escritorio \n",
    "\n",
    "stack = Stack()\n",
    "stack.push(\"banana\")   #mediante la funcion push, se inserta el valor “banana”\n",
    "stack.push(\"apple\")    #luego se inserta apple\n",
    "stack.push(\"tomato\")   #se continua con tomato\n",
    "stack.pop()            #la función pop elimina “tomato” al ser el ultimo valor \n",
    "stack.push(\"strawberry\") #se inserta strawberry\n",
    "stack.push(\"grapes\")   #se inserta grapes\n",
    "stack.pop()            #\"grapes\" es eliminado al ser el último valor\n",
    "print(stack.stack)     #se imprime el stack"
   ]
  },
  {
   "cell_type": "code",
   "execution_count": null,
   "id": "891e14ac",
   "metadata": {},
   "outputs": [],
   "source": [
    "#Q. 04-02. \n",
    "#RESULTADO DE LA PRUEBA DE ESCRITORIO\n",
    "stack=Stack\n",
    "items = [10 * i for i in range(1,10)] # se multiplica por 10 los numeros de 1 a 9               \n",
    "for item in items:           \n",
    "    stack.push(item)              #mediante push se agregan los elementos de la lista\n",
    "    if (item//10)%2==0:          #si los elementos de la lista son multiplos de 20, se eliminan \n",
    "        stack.pop()\n",
    "        print(stack.stack)       #se imprime el stack \n",
    "        \n",
    "        #como resultado del codigo, se deben mostrar los numeros agregadods y los eliminados que serian 20, 40, 60, y 80. "
   ]
  },
  {
   "cell_type": "code",
   "execution_count": null,
   "id": "32b1abd8",
   "metadata": {},
   "outputs": [],
   "source": [
    "#Q. 04-03.  \n",
    "#RESULTADO DE LA PRUEBA DE ESCRITORIO\n",
    "stack=Stack()\n",
    "items = [10 * i for i in range(1,11)] # # se multiplican por 10 los numeros de 1 a 10\n",
    "for item in items:\n",
    "    queue.enqueue(item)               #queue hace que el ultimo elemento agregado recientemente se remueva primero\n",
    "    if (item//10)%2==0:               #si el ultimo elemento agregado es multiplo de 20, se remueve\n",
    "        queue.dequeue()\n",
    "        print(queue.queue)            #se imprime el queue"
   ]
  },
  {
   "cell_type": "code",
   "execution_count": 5,
   "id": "4bfd2b98",
   "metadata": {},
   "outputs": [
    {
     "ename": "NameError",
     "evalue": "name 'nums' is not defined",
     "output_type": "error",
     "traceback": [
      "\u001b[1;31m---------------------------------------------------------------------------\u001b[0m",
      "\u001b[1;31mNameError\u001b[0m                                 Traceback (most recent call last)",
      "Input \u001b[1;32mIn [5]\u001b[0m, in \u001b[0;36m<cell line: 11>\u001b[1;34m()\u001b[0m\n\u001b[0;32m      9\u001b[0m             y\u001b[38;5;241m=\u001b[39mi\n\u001b[0;32m     10\u001b[0m     \u001b[38;5;28;01mreturn\u001b[39;00m x, y\n\u001b[1;32m---> 11\u001b[0m \u001b[38;5;28mprint\u001b[39m(\u001b[43mnums\u001b[49m[i], nums[j])\n",
      "\u001b[1;31mNameError\u001b[0m: name 'nums' is not defined"
     ]
    }
   ],
   "source": [
    "#Q. 04-04. \n",
    "\n",
    "def find_two(nums):\n",
    "    x=y=0\n",
    "    for i in range(1, len(nums)): \n",
    "        if nums[x] < nums[i]:\n",
    "            x = i\n",
    "        elif nums[y]> nums[i]:\n",
    "            y=i\n",
    "    return x, y\n",
    "print(nums[i], nums[j])"
   ]
  },
  {
   "cell_type": "code",
   "execution_count": 4,
   "id": "28e02c29",
   "metadata": {},
   "outputs": [
    {
     "ename": "NameError",
     "evalue": "name 'nums' is not defined",
     "output_type": "error",
     "traceback": [
      "\u001b[1;31m---------------------------------------------------------------------------\u001b[0m",
      "\u001b[1;31mNameError\u001b[0m                                 Traceback (most recent call last)",
      "Input \u001b[1;32mIn [4]\u001b[0m, in \u001b[0;36m<cell line: 4>\u001b[1;34m()\u001b[0m\n\u001b[0;32m      2\u001b[0m     nums \u001b[38;5;241m=\u001b[39m [\u001b[38;5;241m11\u001b[39m, \u001b[38;5;241m37\u001b[39m, \u001b[38;5;241m45\u001b[39m, \u001b[38;5;241m26\u001b[39m, \u001b[38;5;241m59\u001b[39m, \u001b[38;5;241m28\u001b[39m, \u001b[38;5;241m17\u001b[39m, \u001b[38;5;241m53\u001b[39m]\n\u001b[0;32m      3\u001b[0m     i, j \u001b[38;5;241m=\u001b[39m find_two(nums)\n\u001b[1;32m----> 4\u001b[0m \u001b[38;5;28mprint\u001b[39m(\u001b[43mnums\u001b[49m[i], nums[j])\n",
      "\u001b[1;31mNameError\u001b[0m: name 'nums' is not defined"
     ]
    }
   ],
   "source": [
    "def find_two(nums):\n",
    "    nums = [11, 37, 45, 26, 59, 28, 17, 53]\n",
    "    i, j = find_two(nums)\n",
    "print(nums[i], nums[j])"
   ]
  },
  {
   "cell_type": "code",
   "execution_count": 13,
   "id": "951fb425",
   "metadata": {},
   "outputs": [
    {
     "name": "stdout",
     "output_type": "stream",
     "text": [
      "ingrese el numero maximo: 100\n",
      "ingrese el numero a adivinar: 51\n",
      "tu numero es 51.\n",
      "se buscaron 6 veces.\n"
     ]
    }
   ],
   "source": [
    "#Q. 04-06. \n",
    "from random import randint\n",
    "\n",
    "maximum=int(input(\"ingrese el numero maximo: \")) \n",
    "number=int(input(\"ingrese el numero a adivinar: \"))\n",
    "count=0\n",
    "low, high=1,maximum\n",
    "while low<high:\n",
    "    mid=(low+high)//2\n",
    "    count+=1\n",
    "    if mid==number:\n",
    "        print(f\"tu numero es {number}.\")\n",
    "        break \n",
    "    elif mid>number: \n",
    "        high=mid-1\n",
    "    else:\n",
    "        low=mid+1\n",
    "\n",
    "print(f\"se buscaron {count} veces.\")"
   ]
  },
  {
   "cell_type": "code",
   "execution_count": 11,
   "id": "f4c0c4f5",
   "metadata": {},
   "outputs": [
    {
     "name": "stdout",
     "output_type": "stream",
     "text": [
      "ingrese el numero maximo: 100\n",
      "ingrese el numero a adivinar: 25\n",
      "tu numero es 25.\n",
      "se buscaron 2 veces.\n"
     ]
    }
   ],
   "source": [
    "#Q. 04-07. \n",
    "maximum=int(input(\"ingrese el numero maximo: \")) \n",
    "number=int(input(\"ingrese el numero a adivinar: \"))\n",
    "count=0\n",
    "low, high=1,maximum\n",
    "while low<high:\n",
    "    mid=(low+high)//2\n",
    "    count+=1\n",
    "    if mid==number:\n",
    "        print(f\"tu numero es {number}.\")\n",
    "        break \n",
    "    elif mid>number: \n",
    "        high=mid-1\n",
    "    else:\n",
    "        low=mid+1\n",
    "\n",
    "print(f\"se buscaron {count} veces.\")"
   ]
  },
  {
   "cell_type": "code",
   "execution_count": 11,
   "id": "ad6817b0",
   "metadata": {},
   "outputs": [
    {
     "name": "stdout",
     "output_type": "stream",
     "text": [
      "0x1ee4feef210\n"
     ]
    }
   ],
   "source": [
    "#Q. 04-08 \n",
    "class hash_table:\n",
    "    def __init__(self):\n",
    "        self.table = [None] * 127\n",
    "    \n",
    "    # Función hash\n",
    "    def Hash_func(self, value):\n",
    "        key = 0\n",
    "        for i in range(0,len(value)):\n",
    "            key += ord(value[i])\n",
    "        return key % 127\n",
    "\n",
    "    def Insert(self, value): # Metodo para ingresar elementos\n",
    "        hash = self.Hash_func(value)\n",
    "        if self.table[hash] is None:\n",
    "            self.table[hash] = value\n",
    "   \n",
    "    def Search(self,value): # Metodo para buscar elementos\n",
    "        hash = self.Hash_func(value);\n",
    "        if self.table[hash] is None:\n",
    "            return None\n",
    "        else:\n",
    "            return hex(id(self.table[hash]))\n",
    "  \n",
    "    def Remove(self,value): # Metodo para eleminar elementos\n",
    "        hash = self.Hash_func(value);\n",
    "        if self.table[hash] is None:\n",
    "            print(\"No hay elementos con ese valor\", value)\n",
    "        else:\n",
    "            print(\"Elemento con valor\", value, \"eliminado\")\n",
    "            self.table[hash] is None;\n",
    "\n",
    "        \n",
    "H = hash_table()\n",
    "H.Insert(\"Alicia en el pais de las maravillas\")\n",
    "\n",
    "print(H.Search(\"Alicia en el pais de las maravillas\"))\n",
    "\n"
   ]
  },
  {
   "cell_type": "code",
   "execution_count": 14,
   "id": "8c8a79f4",
   "metadata": {},
   "outputs": [
    {
     "ename": "NameError",
     "evalue": "name 'HashTable' is not defined",
     "output_type": "error",
     "traceback": [
      "\u001b[1;31m---------------------------------------------------------------------------\u001b[0m",
      "\u001b[1;31mNameError\u001b[0m                                 Traceback (most recent call last)",
      "Input \u001b[1;32mIn [14]\u001b[0m, in \u001b[0;36m<cell line: 6>\u001b[1;34m()\u001b[0m\n\u001b[0;32m      3\u001b[0m     \u001b[38;5;28;01mdef\u001b[39;00m \u001b[38;5;21m__init__\u001b[39m(\u001b[38;5;28mself\u001b[39m):\n\u001b[0;32m      4\u001b[0m         \u001b[38;5;28mself\u001b[39m\u001b[38;5;241m.\u001b[39mtable \u001b[38;5;241m=\u001b[39m [\u001b[38;5;28;01mNone\u001b[39;00m] \u001b[38;5;241m*\u001b[39m \u001b[38;5;241m127\u001b[39m\n\u001b[1;32m----> 6\u001b[0m table \u001b[38;5;241m=\u001b[39m \u001b[43mHashTable\u001b[49m(\u001b[38;5;241m10\u001b[39m) \n\u001b[0;32m      7\u001b[0m books \u001b[38;5;241m=\u001b[39m[\n\u001b[0;32m      8\u001b[0m \u001b[38;5;124m\"\u001b[39m\u001b[38;5;124mThe Little Prince\u001b[39m\u001b[38;5;124m\"\u001b[39m,\n\u001b[0;32m      9\u001b[0m \u001b[38;5;124m\"\u001b[39m\u001b[38;5;124mThe Old Man and the Sea\u001b[39m\u001b[38;5;124m\"\u001b[39m, \u001b[38;5;124m\"\u001b[39m\u001b[38;5;124mThe Little Mermaid\u001b[39m\u001b[38;5;124m\"\u001b[39m,\n\u001b[1;32m   (...)\u001b[0m\n\u001b[0;32m     12\u001b[0m \u001b[38;5;124m\"\u001b[39m\u001b[38;5;124mAlice in WonderLand\u001b[39m\u001b[38;5;124m\"\u001b[39m\n\u001b[0;32m     13\u001b[0m ]\n\u001b[0;32m     14\u001b[0m \u001b[38;5;28;01mfor\u001b[39;00m book \u001b[38;5;129;01min\u001b[39;00m books: \n",
      "\u001b[1;31mNameError\u001b[0m: name 'HashTable' is not defined"
     ]
    }
   ],
   "source": [
    "#Q. 04-9. \n",
    "#prueba de escritorio\n",
    "table = HashTable(10) #se crea una tabla con 10 valores\n",
    "books =[              #lista de libros que se guardan en la tabla, solo se muestran 5 ya que son los que hay en la estanteria\n",
    "\"The Little Prince\",\n",
    "\"The Old Man and the Sea\", \"The Little Mermaid\",\n",
    "\"Beauty and the Beast\",\n",
    "\"The Last Leaf\",\n",
    "\"Alice in WonderLand\"\n",
    "]\n",
    "for book in books:            \n",
    "    key = sum(map(ord, book)) #se define key y el lugar donde se almacena\n",
    "    table.put(key, book)      #asigna los pares \n",
    "for key in table.table.keys(): #se imprime los libros que hay para los posibles key \n",
    "    print(key, table. table[key]) #se imprime el key"
   ]
  },
  {
   "cell_type": "code",
   "execution_count": null,
   "id": "0cf6efe5",
   "metadata": {},
   "outputs": [],
   "source": []
  }
 ],
 "metadata": {
  "kernelspec": {
   "display_name": "Python 3 (ipykernel)",
   "language": "python",
   "name": "python3"
  },
  "language_info": {
   "codemirror_mode": {
    "name": "ipython",
    "version": 3
   },
   "file_extension": ".py",
   "mimetype": "text/x-python",
   "name": "python",
   "nbconvert_exporter": "python",
   "pygments_lexer": "ipython3",
   "version": "3.9.12"
  }
 },
 "nbformat": 4,
 "nbformat_minor": 5
}
