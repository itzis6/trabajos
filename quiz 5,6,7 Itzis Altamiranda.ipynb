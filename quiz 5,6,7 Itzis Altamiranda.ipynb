{
 "cells": [
  {
   "cell_type": "code",
   "execution_count": 21,
   "id": "c2b39a37",
   "metadata": {},
   "outputs": [
    {
     "name": "stdout",
     "output_type": "stream",
     "text": [
      "1\n",
      "2\n",
      "3\n",
      "4\n",
      "5\n",
      "6\n",
      "7\n",
      "8\n"
     ]
    }
   ],
   "source": [
    "#Q. 05-01. ¿Cuántas comparaciones se ejecutaron en el siguiente proceso de clasificación por inserción?\n",
    "\n",
    "def bubblesort(S):\n",
    "    k=0\n",
    "    n=len(S)\n",
    "    for i in range (n):\n",
    "        for j in range (n-1):\n",
    "            if S [j]>S[j+1]:\n",
    "                k=k+1\n",
    "                S[j],S[j+1]=S[j+1],S[j] \n",
    "                print(k)\n",
    "S=[50,30,40,10,20]\n",
    "bubblesort(S)\n",
    "\n",
    "#Se hacen 8 comparaciones "
   ]
  },
  {
   "cell_type": "code",
   "execution_count": 30,
   "id": "cdae5c2a",
   "metadata": {},
   "outputs": [
    {
     "name": "stdout",
     "output_type": "stream",
     "text": [
      "[50, 30, 40, 10, 20]\n",
      "1\n",
      "[30, 50, 40, 10, 20]\n",
      "2\n",
      "[30, 40, 50, 10, 20]\n",
      "3\n",
      "4\n",
      "5\n",
      "[10, 30, 40, 50, 20]\n",
      "6\n",
      "7\n",
      "8\n"
     ]
    }
   ],
   "source": [
    "#Q. 05-02. ¿Cuántas comparaciones se ejecutaron en el siguiente proceso de clasificación por inserción?\n",
    "def insertionsort2(S):\n",
    "    k=0\n",
    "    n=len(S)\n",
    "    for i in range (1, n):\n",
    "        print(S)\n",
    "        x=S[i]\n",
    "        j=i-1\n",
    "        while j >= 0 and S[j]>x:\n",
    "            k= k+1\n",
    "            S[j+1]=S[j]\n",
    "            j-=1\n",
    "            S[j+1]=x\n",
    "            print(k)\n",
    "S=[50,30,40,10,20]\n",
    "insertionsort2(S)\n",
    "\n",
    "#Se hacen 8 comparaciones"
   ]
  },
  {
   "cell_type": "code",
   "execution_count": 28,
   "id": "bf6247f4",
   "metadata": {},
   "outputs": [
    {
     "name": "stdout",
     "output_type": "stream",
     "text": [
      "[15, 10, 12, 20, 25, 13, 22]\n"
     ]
    }
   ],
   "source": [
    "def partition1(l, n):\n",
    "    S=[15,10,12,20,25,13,22]\n",
    "    partition1(S,0,len(S)-1)\n",
    "print(S)"
   ]
  },
  {
   "cell_type": "code",
   "execution_count": 38,
   "id": "8a8775c2",
   "metadata": {},
   "outputs": [
    {
     "name": "stdout",
     "output_type": "stream",
     "text": [
      "[10, 12, 13, 15, 20, 22, 25]\n"
     ]
    }
   ],
   "source": [
    "#Q. 05-04. \n",
    "def partition1(S, start, end):\n",
    "    pivot = S[end]\n",
    "    pIndex = start    \n",
    "    for i in range(start, end):\n",
    "        if S[i] <= pivot:\n",
    "            swap(S, i, pIndex)\n",
    "            pIndex = pIndex + 1\n",
    "    swap(S, end, pIndex)\n",
    "    return pIndex\n",
    "\n",
    "def quicksort(S, start, end):\n",
    "    if start >= end:\n",
    "        return\n",
    "    pivot = partition1(S, start, end)\n",
    "    quicksort(S, start, pivot - 1)\n",
    "    quicksort(S, pivot + 1, end)\n",
    "if __name__ == '__main__':\n",
    "    S = [15,10,12,20,25,13,22]\n",
    "    quicksort(S, 0, len(S) - 1)\n",
    "    print(S)"
   ]
  },
  {
   "cell_type": "code",
   "execution_count": 23,
   "id": "471b93bb",
   "metadata": {},
   "outputs": [
    {
     "name": "stdout",
     "output_type": "stream",
     "text": [
      "Factorial de 5 es 120\n"
     ]
    }
   ],
   "source": [
    "#Q. 06-01. \n",
    "def factorial(n): \n",
    "    return 1 if (n==1 or n==0) else n * factorial(n - 1);  \n",
    "  \n",
    "num = 5; \n",
    "print(\"Factorial de\",num,\"es\", factorial(num))"
   ]
  },
  {
   "cell_type": "code",
   "execution_count": 42,
   "id": "2fc1b2bb",
   "metadata": {},
   "outputs": [
    {
     "name": "stdout",
     "output_type": "stream",
     "text": [
      "Factorial de 10 es 3628800\n"
     ]
    }
   ],
   "source": [
    "#Q. 06-02. \n",
    "def factorial_1(n):\n",
    "    if n in factorial_1.__dict__:\n",
    "        return factorial_1.__dict__[n]\n",
    "    if n > 1:\n",
    "        fac = n * factorial_1(n - 1)\n",
    "    else:\n",
    "        fac = 1\n",
    "    factorial_1.__dict__[n] = fac\n",
    "    return fac\n",
    "num = 10; \n",
    "print(\"Factorial de\",num,\"es\", factorial_1(num))"
   ]
  },
  {
   "cell_type": "code",
   "execution_count": 42,
   "id": "428dcaa7",
   "metadata": {},
   "outputs": [
    {
     "name": "stdout",
     "output_type": "stream",
     "text": [
      "0\n",
      "1\n",
      "1\n",
      "2\n",
      "3\n",
      "5\n",
      "8\n",
      "13\n",
      "21\n",
      "34\n"
     ]
    }
   ],
   "source": [
    "#Q. 06-03. \n",
    "def fib(n):\n",
    "    if n < 2:\n",
    "        return n\n",
    "    else:\n",
    "        # fn = fn-1 + fn-2\n",
    "        return fib(n-1) + fib(n-2)    \n",
    "fib(8)\n",
    "for x in range(10):\n",
    "    print(fib(x))"
   ]
  },
  {
   "cell_type": "code",
   "execution_count": 5,
   "id": "127cbcf5",
   "metadata": {},
   "outputs": [
    {
     "data": {
      "text/html": [
       "<div>\n",
       "<style scoped>\n",
       "    .dataframe tbody tr th:only-of-type {\n",
       "        vertical-align: middle;\n",
       "    }\n",
       "\n",
       "    .dataframe tbody tr th {\n",
       "        vertical-align: top;\n",
       "    }\n",
       "\n",
       "    .dataframe thead th {\n",
       "        text-align: right;\n",
       "    }\n",
       "</style>\n",
       "<table border=\"1\" class=\"dataframe\">\n",
       "  <thead>\n",
       "    <tr style=\"text-align: right;\">\n",
       "      <th></th>\n",
       "      <th>Columna</th>\n",
       "      <th>Cantidad</th>\n",
       "    </tr>\n",
       "  </thead>\n",
       "  <tbody>\n",
       "    <tr>\n",
       "      <th>0</th>\n",
       "      <td>col1</td>\n",
       "      <td>[1, 2]</td>\n",
       "    </tr>\n",
       "    <tr>\n",
       "      <th>1</th>\n",
       "      <td>col2</td>\n",
       "      <td>[3, 4]</td>\n",
       "    </tr>\n",
       "    <tr>\n",
       "      <th>2</th>\n",
       "      <td>col3</td>\n",
       "      <td>[5, 6]</td>\n",
       "    </tr>\n",
       "    <tr>\n",
       "      <th>3</th>\n",
       "      <td>col4</td>\n",
       "      <td>[7, 8]</td>\n",
       "    </tr>\n",
       "  </tbody>\n",
       "</table>\n",
       "</div>"
      ],
      "text/plain": [
       "  Columna Cantidad\n",
       "0    col1   [1, 2]\n",
       "1    col2   [3, 4]\n",
       "2    col3   [5, 6]\n",
       "3    col4   [7, 8]"
      ]
     },
     "execution_count": 5,
     "metadata": {},
     "output_type": "execute_result"
    }
   ],
   "source": [
    "#Q. 07-01. \n",
    "d={'col1': [1,2], 'col2': [3,4], 'col3': [5,6], 'col4': [7,8]}\n",
    "import pandas as pd\n",
    "df = pd.DataFrame([[key, d[key]] for key in d.keys()], columns=['Columna', 'Cantidad'])\n",
    "df"
   ]
  },
  {
   "cell_type": "code",
   "execution_count": 11,
   "id": "7f0b18dd",
   "metadata": {},
   "outputs": [
    {
     "name": "stdout",
     "output_type": "stream",
     "text": [
      "   col4\n",
      "0     7\n",
      "1     8\n"
     ]
    }
   ],
   "source": [
    "#Q. 07-02. \n",
    "d={'col1': [1,2], 'col2': [3,4], 'col3': [5,6], 'col4': [7,8]}\n",
    "import pandas as pd\n",
    "df = pd.DataFrame([[key, d[key]] for key in d.keys()], columns=['Columna', 'Cantidad'])\n",
    "df\n",
    "new_df = pd.DataFrame({'col4': [7,8]})\n",
    "print(new_df)"
   ]
  },
  {
   "cell_type": "code",
   "execution_count": 17,
   "id": "0ad0b002",
   "metadata": {},
   "outputs": [
    {
     "data": {
      "text/html": [
       "<div>\n",
       "<style scoped>\n",
       "    .dataframe tbody tr th:only-of-type {\n",
       "        vertical-align: middle;\n",
       "    }\n",
       "\n",
       "    .dataframe tbody tr th {\n",
       "        vertical-align: top;\n",
       "    }\n",
       "\n",
       "    .dataframe thead th {\n",
       "        text-align: right;\n",
       "    }\n",
       "</style>\n",
       "<table border=\"1\" class=\"dataframe\">\n",
       "  <thead>\n",
       "    <tr style=\"text-align: right;\">\n",
       "      <th></th>\n",
       "      <th>Columna</th>\n",
       "      <th>Cantidad</th>\n",
       "    </tr>\n",
       "  </thead>\n",
       "  <tbody>\n",
       "    <tr>\n",
       "      <th>primero</th>\n",
       "      <td>col1</td>\n",
       "      <td>[1, 2]</td>\n",
       "    </tr>\n",
       "    <tr>\n",
       "      <th>segundo</th>\n",
       "      <td>col2</td>\n",
       "      <td>[3, 4]</td>\n",
       "    </tr>\n",
       "    <tr>\n",
       "      <th>3</th>\n",
       "      <td>col3</td>\n",
       "      <td>[5, 6]</td>\n",
       "    </tr>\n",
       "    <tr>\n",
       "      <th>4</th>\n",
       "      <td>col4</td>\n",
       "      <td>[7, 8]</td>\n",
       "    </tr>\n",
       "  </tbody>\n",
       "</table>\n",
       "</div>"
      ],
      "text/plain": [
       "        Columna Cantidad\n",
       "primero    col1   [1, 2]\n",
       "segundo    col2   [3, 4]\n",
       "3          col3   [5, 6]\n",
       "4          col4   [7, 8]"
      ]
     },
     "execution_count": 17,
     "metadata": {},
     "output_type": "execute_result"
    }
   ],
   "source": [
    "#Q. 07-03. \n",
    "d={'col1': [1,2], 'col2': [3,4], 'col3': [5,6], 'col4': [7,8]}\n",
    "import pandas as pd\n",
    "df = pd.DataFrame([[key, d[key]] for key in d.keys()], columns=['Columna', 'Cantidad'])\n",
    "df.index = ['primero', 'segundo', '3', '4']\n",
    "df"
   ]
  },
  {
   "cell_type": "code",
   "execution_count": 24,
   "id": "ce12e7d2",
   "metadata": {},
   "outputs": [
    {
     "data": {
      "text/html": [
       "<div>\n",
       "<style scoped>\n",
       "    .dataframe tbody tr th:only-of-type {\n",
       "        vertical-align: middle;\n",
       "    }\n",
       "\n",
       "    .dataframe tbody tr th {\n",
       "        vertical-align: top;\n",
       "    }\n",
       "\n",
       "    .dataframe thead th {\n",
       "        text-align: right;\n",
       "    }\n",
       "</style>\n",
       "<table border=\"1\" class=\"dataframe\">\n",
       "  <thead>\n",
       "    <tr style=\"text-align: right;\">\n",
       "      <th></th>\n",
       "      <th>Columna</th>\n",
       "      <th>Cantidad</th>\n",
       "    </tr>\n",
       "  </thead>\n",
       "  <tbody>\n",
       "    <tr>\n",
       "      <th>primero</th>\n",
       "      <td>True</td>\n",
       "      <td>True</td>\n",
       "    </tr>\n",
       "    <tr>\n",
       "      <th>segundo</th>\n",
       "      <td>True</td>\n",
       "      <td>True</td>\n",
       "    </tr>\n",
       "    <tr>\n",
       "      <th>3</th>\n",
       "      <td>True</td>\n",
       "      <td>True</td>\n",
       "    </tr>\n",
       "    <tr>\n",
       "      <th>4</th>\n",
       "      <td>True</td>\n",
       "      <td>True</td>\n",
       "    </tr>\n",
       "  </tbody>\n",
       "</table>\n",
       "</div>"
      ],
      "text/plain": [
       "         Columna  Cantidad\n",
       "primero     True      True\n",
       "segundo     True      True\n",
       "3           True      True\n",
       "4           True      True"
      ]
     },
     "execution_count": 24,
     "metadata": {},
     "output_type": "execute_result"
    }
   ],
   "source": [
    "#Q. 07-04. \n",
    "d={'col1': [1,2], 'col2': [3,4], 'col3': [5,6], 'col4': [7,8]}\n",
    "import pandas as pd\n",
    "import numpy as np \n",
    "df = pd.DataFrame([[key, d[key]] for key in d.keys()], columns=['Columna', 'Cantidad'])\n",
    "df.index = ['primero', 'segundo', '3', '4']\n",
    "df\n",
    "df.notnull()"
   ]
  },
  {
   "cell_type": "code",
   "execution_count": null,
   "id": "2f30d89a",
   "metadata": {},
   "outputs": [],
   "source": []
  }
 ],
 "metadata": {
  "kernelspec": {
   "display_name": "Python 3 (ipykernel)",
   "language": "python",
   "name": "python3"
  },
  "language_info": {
   "codemirror_mode": {
    "name": "ipython",
    "version": 3
   },
   "file_extension": ".py",
   "mimetype": "text/x-python",
   "name": "python",
   "nbconvert_exporter": "python",
   "pygments_lexer": "ipython3",
   "version": "3.9.12"
  }
 },
 "nbformat": 4,
 "nbformat_minor": 5
}
